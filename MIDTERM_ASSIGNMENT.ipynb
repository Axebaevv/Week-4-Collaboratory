{
  "nbformat": 4,
  "nbformat_minor": 0,
  "metadata": {
    "colab": {
      "provenance": [],
      "collapsed_sections": [],
      "authorship_tag": "ABX9TyOLSUmQcO8LhSWdy+SFP9V4",
      "include_colab_link": true
    },
    "kernelspec": {
      "name": "python3",
      "display_name": "Python 3"
    },
    "language_info": {
      "name": "python"
    }
  },
  "cells": [
    {
      "cell_type": "markdown",
      "metadata": {
        "id": "view-in-github",
        "colab_type": "text"
      },
      "source": [
        "<a href=\"https://colab.research.google.com/github/Axebaevv/Week-4-Collaboratory/blob/main/MIDTERM_ASSIGNMENT.ipynb\" target=\"_parent\"><img src=\"https://colab.research.google.com/assets/colab-badge.svg\" alt=\"Open In Colab\"/></a>"
      ]
    },
    {
      "cell_type": "code",
      "execution_count": 174,
      "metadata": {
        "id": "EzlRXpL3eRFf"
      },
      "outputs": [],
      "source": [
        "from sqlalchemy import create_engine\n",
        "my_conn = create_engine(\"sqlite:////content/midterm.db\")"
      ]
    },
    {
      "cell_type": "code",
      "source": [
        "# Creating main \"VEHICLE\" table\n",
        "my_conn.execute('''\n",
        "  CREATE TABLE IF NOT EXISTS VEHICLE(\n",
        "    id integer primary key, \n",
        "    registration_id text, \n",
        "    manufacturer text, \n",
        "    model text, \n",
        "    color text, \n",
        "    current_odometer integer, \n",
        "    passenger_capacity integer)\n",
        "  ''')"
      ],
      "metadata": {
        "colab": {
          "base_uri": "https://localhost:8080/"
        },
        "id": "jLT9HMI3ekUb",
        "outputId": "8c4ac63c-0653-4cdd-a6f8-e82d3f996309"
      },
      "execution_count": 175,
      "outputs": [
        {
          "output_type": "execute_result",
          "data": {
            "text/plain": [
              "<sqlalchemy.engine.cursor.LegacyCursorResult at 0x7fa5ea86c2d0>"
            ]
          },
          "metadata": {},
          "execution_count": 175
        }
      ]
    },
    {
      "cell_type": "code",
      "source": [
        "# Inserting all info to \"VEHICLE\" table\n",
        "r_set = my_conn.execute(''' INSERT INTO `VEHICLE` \n",
        "  (`id`, `registration_id`, `manufacturer`, `model`, `color`, `current_odometer`, `passenger_capacity`) VALUES\n",
        "  (1, '2001 ABC', 'Volvo', 'XC90 SE', 'Silver', 4350, 4),\n",
        "  (2, '2006 AFD', 'Kia', 'K7', 'Black', 2195, 4),\n",
        "  (3, '2021 AHR', 'Tesla', '2020 F', 'White', 509, 4),\n",
        "  (4, '2020 DXF', 'Ford', 'Transit', 'Silver', 974, 2)\n",
        "''')\n",
        "\n",
        "q = ''' SELECT * FROM VEHICLE '''\n",
        "my_cursor = my_conn.execute(q)\n",
        "data_row = my_cursor.fetchall()\n",
        "print(type(data_row))\n",
        "\n",
        "print(\"No of records : \" , len(data_row))\n",
        "for row in data_row:\n",
        "  print(row)"
      ],
      "metadata": {
        "id": "p8BTtBeHoQgG",
        "colab": {
          "base_uri": "https://localhost:8080/"
        },
        "outputId": "30b5eec1-627d-4e48-9adc-be65039d1493"
      },
      "execution_count": 176,
      "outputs": [
        {
          "output_type": "stream",
          "name": "stdout",
          "text": [
            "<class 'list'>\n",
            "No of records :  4\n",
            "(1, '2001 ABC', 'Volvo', 'XC90 SE', 'Silver', 4350, 4)\n",
            "(2, '2006 AFD', 'Kia', 'K7', 'Black', 2195, 4)\n",
            "(3, '2021 AHR', 'Tesla', '2020 F', 'White', 509, 4)\n",
            "(4, '2020 DXF', 'Ford', 'Transit', 'Silver', 974, 2)\n"
          ]
        }
      ]
    },
    {
      "cell_type": "code",
      "source": [
        "# Creating \"VEHICLE_CONDITION\" table to know the condition of the vehicle \n",
        "my_conn.execute('''\n",
        "  CREATE TABLE IF NOT EXISTS VEHICLE_CONDITION(\n",
        "    id integer primary key, \n",
        "    odometer int, \n",
        "    description text, \n",
        "    date text, \n",
        "    VEHICLE_id int, \n",
        "    VEHICLE_STATUS_id int,\n",
        "    FOREIGN KEY(VEHICLE_id) REFERENCES VEHICLE(id),\n",
        "    FOREIGN KEY(VEHICLE_STATUS_id) REFERENCES VEHICLE_STATUS(id))\n",
        "  ''')"
      ],
      "metadata": {
        "colab": {
          "base_uri": "https://localhost:8080/"
        },
        "id": "BTIgLwLlfX1l",
        "outputId": "c12efa1f-936c-4b6b-9560-5fd5102807d0"
      },
      "execution_count": 177,
      "outputs": [
        {
          "output_type": "execute_result",
          "data": {
            "text/plain": [
              "<sqlalchemy.engine.cursor.LegacyCursorResult at 0x7fa5ea7e3510>"
            ]
          },
          "metadata": {},
          "execution_count": 177
        }
      ]
    },
    {
      "cell_type": "code",
      "source": [
        "# Inserting all info to \"VEHICLE_CONDITION\" table\n",
        "r_set = my_conn.execute(''' INSERT INTO `VEHICLE_CONDITION` \n",
        "  (`id`, `odometer`, `description`, `date`, `VEHICLE_id`, `VEHICLE_STATUS_id`) VALUES\n",
        "  (1, 234, 'Lorem ipsum', '2017-06-15', 1, 2),\n",
        "  (2, 352, 'Lorem ipsum', '2020-06-15', 2, 1),\n",
        "  (3, 5123, 'Lorem ipsum', '2019-06-15', 3, 2)\n",
        "''')\n",
        "\n",
        "q = ''' SELECT * FROM VEHICLE_CONDITION '''\n",
        "my_cursor = my_conn.execute(q)\n",
        "data_row = my_cursor.fetchall()\n",
        "print(type(data_row))\n",
        "\n",
        "print(\"No of records : \" , len(data_row))\n",
        "for row in data_row:\n",
        "  print(row)"
      ],
      "metadata": {
        "id": "p5yBpDH_pr4M",
        "colab": {
          "base_uri": "https://localhost:8080/"
        },
        "outputId": "5bdd4c54-0be4-4f1c-b15c-10bc01322047"
      },
      "execution_count": 178,
      "outputs": [
        {
          "output_type": "stream",
          "name": "stdout",
          "text": [
            "<class 'list'>\n",
            "No of records :  3\n",
            "(1, 234, 'Lorem ipsum', '2017-06-15', 1, 2)\n",
            "(2, 352, 'Lorem ipsum', '2020-06-15', 2, 1)\n",
            "(3, 5123, 'Lorem ipsum', '2019-06-15', 3, 2)\n"
          ]
        }
      ]
    },
    {
      "cell_type": "code",
      "source": [
        "# Creating \"VEHICLE_STATUS\" table and it stores  the action type as Maintenance (M) or Repair (R). \n",
        "# It has a relationship with vehicle condition\n",
        "my_conn.execute('''\n",
        "  CREATE TABLE IF NOT EXISTS VEHICLE_STATUS(\n",
        "    id integer primary key, \n",
        "    status char(1))\n",
        "  ''')"
      ],
      "metadata": {
        "colab": {
          "base_uri": "https://localhost:8080/"
        },
        "id": "mLGpWl1JLRr9",
        "outputId": "61986568-0e69-4b8c-b125-24a6dd07bb64"
      },
      "execution_count": 179,
      "outputs": [
        {
          "output_type": "execute_result",
          "data": {
            "text/plain": [
              "<sqlalchemy.engine.cursor.LegacyCursorResult at 0x7fa5ea7c9e90>"
            ]
          },
          "metadata": {},
          "execution_count": 179
        }
      ]
    },
    {
      "cell_type": "code",
      "source": [
        "# Inserting all info to \"VEHICLE_STATUS\" table. It contains  of Maintenance (M) and\n",
        "# Repair (R). To make it more clean I just seperated it in one table \n",
        "r_set = my_conn.execute(''' INSERT INTO `VEHICLE_STATUS` \n",
        "  (`id`, `status`) VALUES\n",
        "  (1, \"M\"),\n",
        "  (2, \"R\")\n",
        "''')\n",
        "\n",
        "q = ''' SELECT * FROM VEHICLE_STATUS '''\n",
        "my_cursor = my_conn.execute(q)\n",
        "data_row = my_cursor.fetchall()\n",
        "print(type(data_row))\n",
        "\n",
        "print(\"No of records : \" , len(data_row))\n",
        "for row in data_row:\n",
        "  print(row)"
      ],
      "metadata": {
        "id": "WDO9o6hUrbac",
        "colab": {
          "base_uri": "https://localhost:8080/"
        },
        "outputId": "01ef4bfc-2873-4326-e166-9df07556087a"
      },
      "execution_count": 180,
      "outputs": [
        {
          "output_type": "stream",
          "name": "stdout",
          "text": [
            "<class 'list'>\n",
            "No of records :  2\n",
            "(1, 'M')\n",
            "(2, 'R')\n"
          ]
        }
      ]
    },
    {
      "cell_type": "code",
      "source": [
        "# creating \"COUNTRY\" table that stores country participating\n",
        "my_conn.execute('''\n",
        "  CREATE TABLE IF NOT EXISTS COUNTRY(\n",
        "    id integer primary key, \n",
        "    iso text,\n",
        "    country_name text,\n",
        "    official_language text)\n",
        "  ''')"
      ],
      "metadata": {
        "colab": {
          "base_uri": "https://localhost:8080/"
        },
        "id": "a9YwFVtpMA36",
        "outputId": "c2fa0097-dc47-4661-edc4-561a221c34ef"
      },
      "execution_count": 181,
      "outputs": [
        {
          "output_type": "execute_result",
          "data": {
            "text/plain": [
              "<sqlalchemy.engine.cursor.LegacyCursorResult at 0x7fa5ea7c5a90>"
            ]
          },
          "metadata": {},
          "execution_count": 181
        }
      ]
    },
    {
      "cell_type": "code",
      "source": [
        "# Inserting all info to \"COUNTRY\" table\n",
        "r_set = my_conn.execute(''' INSERT INTO `COUNTRY` \n",
        "  (`id`, `iso`, `country_name`, `official_language`) VALUES\n",
        "  (1, \"ISO 3166-2:US\", \"The United States\", \"EN\"),\n",
        "  (2, \"ISO 3166-2:CN\", 'China', \"CN\")\n",
        "''')\n",
        "\n",
        "q = ''' SELECT * FROM COUNTRY '''\n",
        "my_cursor = my_conn.execute(q)\n",
        "data_row = my_cursor.fetchall()\n",
        "print(type(data_row))\n",
        "\n",
        "print(\"No of records : \" , len(data_row))\n",
        "for row in data_row:\n",
        "  print(row)"
      ],
      "metadata": {
        "id": "mXNJIgCbzOAE",
        "colab": {
          "base_uri": "https://localhost:8080/"
        },
        "outputId": "e3fea875-301d-4e7b-ab18-efe2ecd954bb"
      },
      "execution_count": 182,
      "outputs": [
        {
          "output_type": "stream",
          "name": "stdout",
          "text": [
            "<class 'list'>\n",
            "No of records :  2\n",
            "(1, 'ISO 3166-2:US', 'The United States', 'EN')\n",
            "(2, 'ISO 3166-2:CN', 'China', 'CN')\n"
          ]
        }
      ]
    },
    {
      "cell_type": "code",
      "source": [
        "# creating \"PARTICIPANTS\" table that has information ITS records the\n",
        "# name of the country that an official is representing, the official's Incheon 8\n",
        "# characters based City ID, his/her name, role at the Incheon Games (e. g., coach,\n",
        "# judge and physician), and the official's preferred language.\n",
        "\n",
        "# I have added to foreign key which are \"COUNTRY_id\" & \"DRIVER_id\".\n",
        "# \"COUNTRY_id\" helps to add country to this table\n",
        "# \"DRIVER_id\" helps to make a bridge between these two tables in order to find sutable driver for the participants\n",
        "my_conn.execute('''\n",
        "  CREATE TABLE IF NOT EXISTS PARTICIPANTS(\n",
        "    id integer primary key, \n",
        "    city_id text,\n",
        "    name text,\n",
        "    role text,\n",
        "    language text,\n",
        "    COUNTRY_id int, \n",
        "    DRIVER_id int,\n",
        "    FOREIGN KEY(COUNTRY_id) REFERENCES COUNTRY(id),\n",
        "    FOREIGN KEY(DRIVER_id) REFERENCES DRIVER(id))\n",
        "  ''')"
      ],
      "metadata": {
        "colab": {
          "base_uri": "https://localhost:8080/"
        },
        "id": "fKdFUXdLNdn4",
        "outputId": "a8cf3de1-3735-4cab-e64e-539c4006aa05"
      },
      "execution_count": 183,
      "outputs": [
        {
          "output_type": "execute_result",
          "data": {
            "text/plain": [
              "<sqlalchemy.engine.cursor.LegacyCursorResult at 0x7fa5ea8a3850>"
            ]
          },
          "metadata": {},
          "execution_count": 183
        }
      ]
    },
    {
      "cell_type": "code",
      "source": [
        "# Inserting all info to \"PARTICIPANTS\" table\n",
        "r_set = my_conn.execute(''' INSERT INTO `PARTICIPANTS` \n",
        "  (`id`, `city_id`, `name`, `role`, `language`, `COUNTRY_id`, `DRIVER_id`) VALUES\n",
        "  (1, 124, 'Alex', 'Coach', 'EN', 1, 1),\n",
        "  (2, 512, 'Si Won Hye', 'Assistent', 'CN', 2, 2)\n",
        "''')\n",
        "\n",
        "q = ''' SELECT * FROM PARTICIPANTS '''\n",
        "my_cursor = my_conn.execute(q)\n",
        "data_row = my_cursor.fetchall()\n",
        "print(type(data_row))\n",
        "\n",
        "print(\"No of records : \" , len(data_row))\n",
        "for row in data_row:\n",
        "  print(row)"
      ],
      "metadata": {
        "id": "dHQJmNB3z1MM",
        "colab": {
          "base_uri": "https://localhost:8080/"
        },
        "outputId": "e16ca544-5918-45ce-e46a-a8aed7758884"
      },
      "execution_count": 184,
      "outputs": [
        {
          "output_type": "stream",
          "name": "stdout",
          "text": [
            "<class 'list'>\n",
            "No of records :  2\n",
            "(1, '124', 'Alex', 'Coach', 'EN', 1, 1)\n",
            "(2, '512', 'Si Won Hye', 'Assistent', 'CN', 2, 2)\n"
          ]
        }
      ]
    },
    {
      "cell_type": "code",
      "source": [
        "# Creating \"DRIVER\" table and it stores drivers' information, including their name,\n",
        "# license number (18 characters), and clearance level. An ITS driver's security\n",
        "# clearance level can be digits from 1 to 4.\n",
        "\n",
        "# FOREIGN KEYS\n",
        "# I have added \"FATL_id\" and \"STLVT_id\" as a foreign keys \n",
        "# From my perspective, it was best solution because, you can leave as a blank if theyd don't have or fill out the blank\n",
        "# if they have that documents\n",
        "my_conn.execute('''\n",
        "  CREATE TABLE IF NOT EXISTS DRIVER(\n",
        "    id integer primary key, \n",
        "    name text,\n",
        "    licence_number char(18),\n",
        "    clearance_level int,\n",
        "    language text,\n",
        "    FATL_id int, \n",
        "    FATL_issue_date date,\n",
        "    STLVT_id int, \n",
        "    STLVT_issue_date date,\n",
        "    STLVT_certifying_authority text,\n",
        "    FOREIGN KEY(FATL_id) REFERENCES FATL(id),\n",
        "    FOREIGN KEY(STLVT_id) REFERENCES STLVT(id))\n",
        "  ''')"
      ],
      "metadata": {
        "colab": {
          "base_uri": "https://localhost:8080/"
        },
        "id": "zmm_kkWjOwys",
        "outputId": "fe7d4a32-cd96-4df4-b91d-351d56f20fba"
      },
      "execution_count": 185,
      "outputs": [
        {
          "output_type": "execute_result",
          "data": {
            "text/plain": [
              "<sqlalchemy.engine.cursor.LegacyCursorResult at 0x7fa5ea809c10>"
            ]
          },
          "metadata": {},
          "execution_count": 185
        }
      ]
    },
    {
      "cell_type": "code",
      "source": [
        "# Inserting all info to \"DRIVER\" table\n",
        "r_set = my_conn.execute(''' INSERT INTO `DRIVER` \n",
        "  (`id`, `name`, `licence_number`, `clearance_level`, `language`, `FATL_id`,\n",
        "   `FATL_issue_date`, `STLVT_id`, `STLVT_issue_date`, `STLVT_certifying_authority`) VALUES\n",
        "  (1, \"John\", '123456789101324354', 1, 'EN', 3, '2017-06-15', 4, '2017-06-15', 'Government'),\n",
        "  (2, \"In Che Xiu\", '123456789101324351', 3, 'CN', 2, '2017-06-15', 5, '2017-06-15', 'Government')\n",
        "''')\n",
        "\n",
        "q = ''' SELECT * FROM DRIVER '''\n",
        "my_cursor = my_conn.execute(q)\n",
        "data_row = my_cursor.fetchall()\n",
        "print(type(data_row))\n",
        "\n",
        "print(\"No of records : \" , len(data_row))\n",
        "for row in data_row:\n",
        "  print(row)"
      ],
      "metadata": {
        "id": "rkQ-8q2L0wpW",
        "colab": {
          "base_uri": "https://localhost:8080/"
        },
        "outputId": "a3ac3ea8-fe40-4e71-b7ea-9816a1862f63"
      },
      "execution_count": 186,
      "outputs": [
        {
          "output_type": "stream",
          "name": "stdout",
          "text": [
            "<class 'list'>\n",
            "No of records :  2\n",
            "(1, 'John', '123456789101324354', 1, 'EN', 3, '2017-06-15', 4, '2017-06-15', 'Government')\n",
            "(2, 'In Che Xiu', '123456789101324351', 3, 'CN', 2, '2017-06-15', 5, '2017-06-15', 'Government')\n"
          ]
        }
      ]
    },
    {
      "cell_type": "code",
      "source": [
        "# Creating \"FATL\" table that stores the FATL level (1 to 10) \n",
        "my_conn.execute('''\n",
        "  CREATE TABLE IF NOT EXISTS FATL(\n",
        "    id integer primary key, \n",
        "    level int)\n",
        "  ''')"
      ],
      "metadata": {
        "colab": {
          "base_uri": "https://localhost:8080/"
        },
        "id": "a50whz1rTs3U",
        "outputId": "4004838a-40c9-4469-9d03-e258dfa3d8ea"
      },
      "execution_count": 187,
      "outputs": [
        {
          "output_type": "execute_result",
          "data": {
            "text/plain": [
              "<sqlalchemy.engine.cursor.LegacyCursorResult at 0x7fa5ea82be10>"
            ]
          },
          "metadata": {},
          "execution_count": 187
        }
      ]
    },
    {
      "cell_type": "code",
      "source": [
        "# Inserting all info to \"FATL\" table\n",
        "r_set = my_conn.execute(''' INSERT INTO `FATL` \n",
        "  (`id`, `level`) VALUES\n",
        "  (1, 1),\n",
        "  (2, 2),\n",
        "  (3, 3),\n",
        "  (4, 4),\n",
        "  (5, 5),\n",
        "  (6, 6),\n",
        "  (7, 7),\n",
        "  (8, 8),\n",
        "  (9, 9),\n",
        "  (10, 10)\n",
        "''')\n",
        "\n",
        "q = ''' SELECT * FROM FATL '''\n",
        "my_cursor = my_conn.execute(q)\n",
        "data_row = my_cursor.fetchall()\n",
        "print(type(data_row))\n",
        "\n",
        "print(\"No of records : \" , len(data_row))\n",
        "for row in data_row:\n",
        "  print(row)"
      ],
      "metadata": {
        "id": "9yEDbfWp2NXP",
        "colab": {
          "base_uri": "https://localhost:8080/"
        },
        "outputId": "154d963d-a42e-4b33-823b-613595f2a624"
      },
      "execution_count": 188,
      "outputs": [
        {
          "output_type": "stream",
          "name": "stdout",
          "text": [
            "<class 'list'>\n",
            "No of records :  10\n",
            "(1, 1)\n",
            "(2, 2)\n",
            "(3, 3)\n",
            "(4, 4)\n",
            "(5, 5)\n",
            "(6, 6)\n",
            "(7, 7)\n",
            "(8, 8)\n",
            "(9, 9)\n",
            "(10, 10)\n"
          ]
        }
      ]
    },
    {
      "cell_type": "code",
      "source": [
        "# Creating \"STLVT\" table that stores the STLVT level (1 to 5) \n",
        "my_conn.execute('''\n",
        "  CREATE TABLE IF NOT EXISTS STLVT(\n",
        "    id integer primary key, \n",
        "    level int)\n",
        "  ''')"
      ],
      "metadata": {
        "colab": {
          "base_uri": "https://localhost:8080/"
        },
        "id": "UtgFI5QIXKZI",
        "outputId": "9bffa8bd-31c9-44ae-8aa8-b4cffad86a35"
      },
      "execution_count": 189,
      "outputs": [
        {
          "output_type": "execute_result",
          "data": {
            "text/plain": [
              "<sqlalchemy.engine.cursor.LegacyCursorResult at 0x7fa5ea7f2d90>"
            ]
          },
          "metadata": {},
          "execution_count": 189
        }
      ]
    },
    {
      "cell_type": "code",
      "source": [
        "# Inserting all info to \"STLVT\" table\n",
        "r_set = my_conn.execute(''' INSERT INTO `STLVT` \n",
        "  (`id`, `level`) VALUES\n",
        "  (1, 1),\n",
        "  (2, 2),\n",
        "  (3, 3),\n",
        "  (4, 4),\n",
        "  (5, 5)\n",
        "''')\n",
        "\n",
        "q = ''' SELECT * FROM STLVT '''\n",
        "my_cursor = my_conn.execute(q)\n",
        "data_row = my_cursor.fetchall()\n",
        "print(type(data_row))\n",
        "\n",
        "print(\"No of records : \" , len(data_row))\n",
        "for row in data_row:\n",
        "  print(row)"
      ],
      "metadata": {
        "id": "-5nc4w_s2xWM",
        "colab": {
          "base_uri": "https://localhost:8080/"
        },
        "outputId": "3f3c8b37-bb03-4074-ce45-72858b371c27"
      },
      "execution_count": 190,
      "outputs": [
        {
          "output_type": "stream",
          "name": "stdout",
          "text": [
            "<class 'list'>\n",
            "No of records :  5\n",
            "(1, 1)\n",
            "(2, 2)\n",
            "(3, 3)\n",
            "(4, 4)\n",
            "(5, 5)\n"
          ]
        }
      ]
    },
    {
      "cell_type": "code",
      "source": [
        "# Creating \"BOOKING_SERVICE\" table \n",
        "# Here you can find all bookings. It includes matched driver with participant\n",
        "# Also the information about the date, location, pick up, drop off and odometer \n",
        "# It designed as the best table for storing all the trip data in this one table \n",
        "# Because it is more efficient and effective\n",
        "\n",
        "# booking service matches the assignment of a suitable driver with a\n",
        "# suitable vehicle based on the Incheon game official's request\n",
        "\n",
        "# BOOKING_SERVICE table system stores the booking reference number, the actual trip\n",
        "# start date-and-time, end date-and-time, start odometer value and end odometer\n",
        "# value\n",
        "\n",
        "my_conn.execute('''\n",
        "  CREATE TABLE IF NOT EXISTS BOOKING_SERVICE(\n",
        "    id integer primary key, \n",
        "    booking_reference_number int,\n",
        "    VEHICLE_id int,\n",
        "    DRIVER_id int, \n",
        "    PARTICIPANTS_id int,\n",
        "    LOCATION_id_pick_up int,\n",
        "    LOCATION_id_drop_off int,\n",
        "    trip_start_date date,\n",
        "    trip_end_date date,\n",
        "    start_odometer int,\n",
        "    end_odometer int,\n",
        "    FOREIGN KEY(VEHICLE_id) REFERENCES VEHICLE(id),\n",
        "    FOREIGN KEY(DRIVER_id) REFERENCES DRIVER(id),\n",
        "    FOREIGN KEY(PARTICIPANTS_id) REFERENCES PARTICIPANTS(id),\n",
        "    FOREIGN KEY(LOCATION_id_pick_up) REFERENCES LOCATION(id),\n",
        "    FOREIGN KEY(LOCATION_id_drop_off) REFERENCES LOCATION(id),\n",
        "    FOREIGN KEY(PARTICIPANTS_id) REFERENCES PARTICIPANTS(id))\n",
        "  ''')"
      ],
      "metadata": {
        "colab": {
          "base_uri": "https://localhost:8080/"
        },
        "id": "-LhAG3uGedTI",
        "outputId": "65ae317c-d288-487f-a3c1-c09ef5b3e602"
      },
      "execution_count": 191,
      "outputs": [
        {
          "output_type": "execute_result",
          "data": {
            "text/plain": [
              "<sqlalchemy.engine.cursor.LegacyCursorResult at 0x7fa5ea82b210>"
            ]
          },
          "metadata": {},
          "execution_count": 191
        }
      ]
    },
    {
      "cell_type": "code",
      "source": [
        "# Inserting all info to \"BOOKING_SERVICE\" table\n",
        "r_set = my_conn.execute(''' INSERT INTO `BOOKING_SERVICE` \n",
        "  (`id`, `booking_reference_number`, `VEHICLE_id`, `DRIVER_id`, `LOCATION_id_pick_up`,\n",
        "  `LOCATION_id_drop_off`, `trip_start_date`, `trip_end_date`,\n",
        "   `start_odometer`, `end_odometer`) VALUES\n",
        "  (1, \"123\", 1, 2, 3, 2, '2022-06-15', '2022-06-17', 423, 642),\n",
        "  (2, \"523\", 3, 1, 4, 1, '2022-06-02', '2022-06-05', 123, 513)\n",
        "''')\n",
        "\n",
        "q = ''' SELECT * FROM BOOKING_SERVICE '''\n",
        "my_cursor = my_conn.execute(q)\n",
        "data_row = my_cursor.fetchall()\n",
        "print(type(data_row))\n",
        "\n",
        "print(\"No of records : \" , len(data_row))\n",
        "for row in data_row:\n",
        "  print(row)"
      ],
      "metadata": {
        "id": "h2KGumOr47a1",
        "colab": {
          "base_uri": "https://localhost:8080/"
        },
        "outputId": "d27702a0-16ab-43d1-bca9-69654a9a6c86"
      },
      "execution_count": 192,
      "outputs": [
        {
          "output_type": "stream",
          "name": "stdout",
          "text": [
            "<class 'list'>\n",
            "No of records :  2\n",
            "(1, 123, 1, 2, None, 3, 2, '2022-06-15', '2022-06-17', 423, 642)\n",
            "(2, 523, 3, 1, None, 4, 1, '2022-06-02', '2022-06-05', 123, 513)\n"
          ]
        }
      ]
    },
    {
      "cell_type": "code",
      "source": [
        "# Creating \"LOCATION\" table that stores all locations that are available in the Incheon game official \n",
        "my_conn.execute('''\n",
        "  CREATE TABLE IF NOT EXISTS LOCATION(\n",
        "    id integer primary key, \n",
        "    address text,\n",
        "    type text)\n",
        "  ''')"
      ],
      "metadata": {
        "colab": {
          "base_uri": "https://localhost:8080/"
        },
        "id": "UmMOG5QJe74J",
        "outputId": "04bebb65-2490-4591-9f58-44215552f501"
      },
      "execution_count": 193,
      "outputs": [
        {
          "output_type": "execute_result",
          "data": {
            "text/plain": [
              "<sqlalchemy.engine.cursor.LegacyCursorResult at 0x7fa5ea8601d0>"
            ]
          },
          "metadata": {},
          "execution_count": 193
        }
      ]
    },
    {
      "cell_type": "code",
      "source": [
        "# Inserting all info to \"LOCATION\" table\n",
        "r_set = my_conn.execute(''' INSERT INTO `LOCATION` \n",
        "  (`id`, `address`, `type`) VALUES\n",
        "  (1, 'Incheon 123, X street', 'Medical Center'),\n",
        "  (2, 'Incheon 5, Y street', 'Main Olympic Center'),\n",
        "  (3, 'Incheon 14, Z street', 'Amusement Park'),\n",
        "  (4, 'Incheon 12, A street', 'INCHEON GYM'),\n",
        "  (5, 'Incheon 52, B street', 'Hotel')\n",
        "''')\n",
        "\n",
        "q = ''' SELECT * FROM LOCATION '''\n",
        "my_cursor = my_conn.execute(q)\n",
        "data_row = my_cursor.fetchall()\n",
        "print(type(data_row))\n",
        "\n",
        "print(\"No of records : \" , len(data_row))\n",
        "for row in data_row:\n",
        "  print(row)"
      ],
      "metadata": {
        "id": "69dguDke8OUR",
        "colab": {
          "base_uri": "https://localhost:8080/"
        },
        "outputId": "b80ecf7c-6d51-46df-b171-1c604aa626ef"
      },
      "execution_count": 194,
      "outputs": [
        {
          "output_type": "stream",
          "name": "stdout",
          "text": [
            "<class 'list'>\n",
            "No of records :  5\n",
            "(1, 'Incheon 123, X street', 'Medical Center')\n",
            "(2, 'Incheon 5, Y street', 'Main Olympic Center')\n",
            "(3, 'Incheon 14, Z street', 'Amusement Park')\n",
            "(4, 'Incheon 12, A street', 'INCHEON GYM')\n",
            "(5, 'Incheon 52, B street', 'Hotel')\n"
          ]
        }
      ]
    },
    {
      "cell_type": "code",
      "source": [
        "# Creating \"VEHICLE_AVAILABILITY\" table where you can find whether a vehicle is currently available or not. \n",
        "# With this table you can find out the availability if the\n",
        "# vehicle is out-on-a-trip or out-of-service.\n",
        "\n",
        "my_conn.execute('''\n",
        "  CREATE TABLE IF NOT EXISTS VEHICLE_AVAILABILITY(\n",
        "    id integer primary key, \n",
        "    VEHICLE_CONDITION_id int,\n",
        "    BOOKING_SERVICE_id int,\n",
        "    FOREIGN KEY(VEHICLE_CONDITION_id) REFERENCES VEHICLE_CONDITION(id),\n",
        "    FOREIGN KEY(BOOKING_SERVICE_id) REFERENCES BOOKING_SERVICE(id))\n",
        "  ''')"
      ],
      "metadata": {
        "colab": {
          "base_uri": "https://localhost:8080/"
        },
        "id": "-5BfRAmSl5jA",
        "outputId": "39c7ff43-cdb5-4325-a476-656fab272338"
      },
      "execution_count": 195,
      "outputs": [
        {
          "output_type": "execute_result",
          "data": {
            "text/plain": [
              "<sqlalchemy.engine.cursor.LegacyCursorResult at 0x7fa5ea7f0e50>"
            ]
          },
          "metadata": {},
          "execution_count": 195
        }
      ]
    },
    {
      "cell_type": "code",
      "source": [
        "# Inserting all info to \"VEHICLE_AVAILABILITY\" table\n",
        "r_set = my_conn.execute(''' INSERT INTO `VEHICLE_AVAILABILITY` \n",
        "  (`id`, `VEHICLE_CONDITION_id`, `BOOKING_SERVICE_id`) VALUES\n",
        "  (1, 1, 1),\n",
        "  (2, 3, 2)\n",
        "''')\n",
        "\n",
        "q = ''' SELECT * FROM VEHICLE_AVAILABILITY '''\n",
        "my_cursor = my_conn.execute(q)\n",
        "data_row = my_cursor.fetchall()\n",
        "print(type(data_row))\n",
        "\n",
        "print(\"No of records : \" , len(data_row))\n",
        "for row in data_row:\n",
        "  print(row)"
      ],
      "metadata": {
        "id": "ySIFSe1MmTL-",
        "colab": {
          "base_uri": "https://localhost:8080/"
        },
        "outputId": "31f2bc56-1dca-44dc-f8fb-6acb4eb3b1b5"
      },
      "execution_count": 196,
      "outputs": [
        {
          "output_type": "stream",
          "name": "stdout",
          "text": [
            "<class 'list'>\n",
            "No of records :  2\n",
            "(1, 1, 1)\n",
            "(2, 3, 2)\n"
          ]
        }
      ]
    }
  ]
}